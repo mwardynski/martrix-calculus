{
  "cells": [
    {
      "cell_type": "markdown",
      "metadata": {
        "id": "Ty6zNzWwzKXS"
      },
      "source": [
        "## Funkcje pomocnicze"
      ]
    },
    {
      "cell_type": "code",
      "execution_count": 1,
      "metadata": {
        "id": "i1gUXtGDYF-h"
      },
      "outputs": [],
      "source": [
        "import math\n",
        "\n",
        "def transpose(matrix):\n",
        "    transposed = [list(i) for i in zip(*matrix)]\n",
        "    return transposed\n",
        "\n",
        "\n",
        "def multiply(matrixA, matrixB):\n",
        "    num_rows_A = len(matrixA)\n",
        "    num_cols_A = len(matrixA[0])\n",
        "    num_rows_B = len(matrixB)\n",
        "    num_cols_B = len(matrixB[0])\n",
        "\n",
        "    if num_cols_A != num_rows_B:\n",
        "        print(\"Nie można mnożyć macierzy\")\n",
        "        return\n",
        "\n",
        "    result = [[0 for row in range(num_cols_B)] for col in range(num_rows_A)]\n",
        "\n",
        "    for i in range(num_rows_A):\n",
        "        for j in range(num_cols_B):\n",
        "            for k in range(num_cols_A):\n",
        "                result[i][j] += matrixA[i][k] * matrixB[k][j]\n",
        "    return result\n",
        "\n",
        "def diag(values):\n",
        "    n = len(values)\n",
        "    result = [[0]*n for _ in range(n)]\n",
        "    for i in range(n):\n",
        "        result[i][i] = values[i]\n",
        "    return result\n",
        "\n",
        "def dot(matrixA, matrixB):\n",
        "    result = []\n",
        "    if isinstance(matrixB[0], np.ndarray):\n",
        "        for i in range(len(matrixA)):\n",
        "            row = []\n",
        "            for j in range(len(matrixB[0])):\n",
        "                sum = 0\n",
        "                for k in range(len(matrixB)):\n",
        "                    sum += matrixA[i][k] * matrixB[k][j]\n",
        "                row.append(sum)\n",
        "            result.append(row)\n",
        "    else:\n",
        "        for i in range(len(matrixA)):\n",
        "            sum = 0\n",
        "            for k in range(len(matrixB)):\n",
        "                sum += matrixA[i][k] * matrixB[k]\n",
        "            result.append(sum)\n",
        "    return result\n",
        "\n",
        "\n",
        "def count_nonzero(array):\n",
        "    count = 0\n",
        "    for element in array:\n",
        "        if element != 0:\n",
        "            count += 1\n",
        "    return count\n",
        "\n",
        "def zeros_like(array):\n",
        "    result = []\n",
        "    for row in array:\n",
        "        result_row = []\n",
        "        for col in row:\n",
        "            result_row.append(0)\n",
        "        result.append(result_row)\n",
        "    return result\n",
        "\n",
        "\n",
        "def norm(vector):\n",
        "    return math.sqrt(sum(x**2 for x in vector))\n",
        "\n",
        "\n",
        "def gauss_elimination(matrix):\n",
        "    numrows = len(matrix)\n",
        "    numcols = len(matrix[0])\n",
        "\n",
        "    row = 0\n",
        "    for col in range(numcols):\n",
        "        if row >= numrows:\n",
        "            break\n",
        "        nonzero_row = row\n",
        "        while nonzero_row < numrows and matrix[nonzero_row][col] == 0:\n",
        "            nonzero_row += 1\n",
        "        if nonzero_row == numrows:\n",
        "            continue\n",
        "        if nonzero_row != row:\n",
        "            matrix[row], matrix[nonzero_row] = matrix[nonzero_row], matrix[row]\n",
        "        for i in range(row + 1, numrows):\n",
        "            ratio = matrix[i][col] / matrix[row][col]\n",
        "            for j in range(col, numcols):\n",
        "                matrix[i][j] -= ratio * matrix[row][j]\n",
        "        row += 1\n",
        "\n",
        "def matrix_rank(matrix):\n",
        "    matrix_copy = [row[:] for row in matrix]\n",
        "    gauss_elimination(matrix_copy)\n",
        "    return count_nonzero(matrix_copy)\n",
        "\n",
        "\n",
        "def root(p):\n",
        "    return math.sqrt(p)\n",
        "\n",
        "def roots(eigenvalues):\n",
        "    roots = []\n",
        "    for i in range(len(eigenvalues)):\n",
        "        roots.append(root(eigenvalues[i]))\n",
        "    roots.sort(reverse=True)\n",
        "    return roots"
      ]
    },
    {
      "cell_type": "markdown",
      "metadata": {
        "id": "0RqB0faQzNyl"
      },
      "source": [
        "## SVD"
      ]
    },
    {
      "cell_type": "code",
      "execution_count": 2,
      "metadata": {
        "colab": {
          "base_uri": "https://localhost:8080/"
        },
        "id": "N6TEUVvCcwpL",
        "outputId": "6a853fc0-bfe0-4a18-e70c-a1c9ad04b543"
      },
      "outputs": [
        {
          "name": "stdout",
          "output_type": "stream",
          "text": [
            "U =\n",
            " [[-0.5773502691896256, -0.7071067811865477, -0.40824829046386363], [-0.5773502691896257, 1.281975124255709e-16, 0.8164965809277264], [-0.5773502691896258, 0.7071067811865474, -0.40824829046386174]]\n",
            "\n",
            "S =\n",
            " [[15.000000000000004, 0, 0], [0, 6.9282032302755105, 0], [0, 0, 3.4641016151377557]]\n",
            "\n",
            "V =\n",
            " [[-0.57735027  0.40824829 -0.70710678]\n",
            " [-0.57735027 -0.81649658 -0.        ]\n",
            " [-0.57735027  0.40824829  0.70710678]]\n"
          ]
        }
      ],
      "source": [
        "import numpy as np\n",
        "\n",
        "def result(matrix):\n",
        "    T = transpose(matrix)\n",
        "    AT = multiply(matrix, T)\n",
        "    TA = multiply(T, matrix)\n",
        "    main_matrix = AT if matrix_rank(TA) > matrix_rank(AT) else TA\n",
        "    np.set_printoptions(suppress=True)\n",
        "    eigenvalues, eigenvectors = np.linalg.eig(main_matrix)\n",
        "\n",
        "    sorted_indices = sorted(range(len(eigenvalues)), key=lambda i: eigenvalues[i], reverse=True)\n",
        "    eigenvalues = eigenvalues[sorted_indices]\n",
        "    eigenvectors = eigenvectors[:, sorted_indices]\n",
        "\n",
        "    root = roots(eigenvalues)\n",
        "\n",
        "    E = diag(root)\n",
        "\n",
        "    r = count_nonzero(eigenvalues)\n",
        "    U = zeros_like(matrix)\n",
        "    for i in range(r):\n",
        "        u = dot(matrix, eigenvectors[:, i])\n",
        "        norm_u = norm(u)\n",
        "        if norm_u != 0:\n",
        "            U[i] = [x / norm_u for x in u]\n",
        "\n",
        "    U  = transpose(U)\n",
        "\n",
        "\n",
        "    return U, E, eigenvectors\n",
        "\n",
        "X = result([[4,9,2],[3,5,7],[8,1,6]])\n",
        "print(\"U =\\n\", X[0])\n",
        "print(\"\\nS =\\n\", X[1])\n",
        "print(\"\\nV =\\n\", X[2])"
      ]
    }
  ],
  "metadata": {
    "colab": {
      "provenance": []
    },
    "kernelspec": {
      "display_name": "Python 3",
      "name": "python3"
    },
    "language_info": {
      "codemirror_mode": {
        "name": "ipython",
        "version": 3
      },
      "file_extension": ".py",
      "mimetype": "text/x-python",
      "name": "python",
      "nbconvert_exporter": "python",
      "pygments_lexer": "ipython3",
      "version": "3.8.8"
    }
  },
  "nbformat": 4,
  "nbformat_minor": 0
}
