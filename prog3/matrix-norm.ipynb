{
 "cells": [
  {
   "cell_type": "code",
   "execution_count": 163,
   "metadata": {},
   "outputs": [],
   "source": [
    "import numpy as np\n",
    "from scipy.optimize import minimize\n",
    "\n",
    "A = np.array([[5, 2, 3, 1, 1],\n",
    "              [4, 5, 6, 1, 2],\n",
    "              [7, 8, 9, 1, 3],\n",
    "              [3, 1, 2, 1, 1],\n",
    "              [3, 4, 2, 1, 8]])"
   ]
  },
  {
   "cell_type": "code",
   "execution_count": 164,
   "metadata": {},
   "outputs": [],
   "source": [
    "def calculate_inf_norm(A, p='inf'):\n",
    "    A_abs = np.abs(A)\n",
    "    row_sums = np.sum(A_abs, axis=1)\n",
    "    return np.max(row_sums)"
   ]
  },
  {
   "cell_type": "code",
   "execution_count": 165,
   "metadata": {},
   "outputs": [],
   "source": [
    "def calculate_1_norm(A, p=1):\n",
    "    A_abs = np.abs(A)\n",
    "    col_sums = np.sum(A_abs, axis=0)\n",
    "    return np.max(col_sums)"
   ]
  },
  {
   "cell_type": "code",
   "execution_count": 166,
   "metadata": {},
   "outputs": [],
   "source": [
    "def calculate_2_norm(A, p=2):\n",
    "    eigenvalues, _ = np.linalg.eig(A)\n",
    "    eigenvalues_abs = np.abs(eigenvalues)\n",
    "    return np.max(eigenvalues_abs)"
   ]
  },
  {
   "cell_type": "code",
   "execution_count": 182,
   "metadata": {},
   "outputs": [
    {
     "data": {
      "text/plain": [
       "21.999924849609"
      ]
     },
     "execution_count": 182,
     "metadata": {},
     "output_type": "execute_result"
    }
   ],
   "source": [
    "from scipy.optimize import minimize\n",
    "\n",
    "def vector_p_norm(x, p):\n",
    "        return np.sum(np.abs(x)**p)**(1/p)\n",
    "\n",
    "def calculate_p_norm(A, p):\n",
    "    x_init = np.ones(5)\n",
    "    \n",
    "    result = minimize(lambda x, A, p: -vector_p_norm(A @ x, p), x_init, args=(A, p),\n",
    "                    constraints={'type': 'eq', 'fun': lambda x: vector_p_norm(x, p) - 1})\n",
    "\n",
    "    x_optimal = result.x\n",
    "    p_norm = vector_p_norm(A @ x_optimal, p)\n",
    "\n",
    "    return p_norm\n",
    "\n",
    "\n",
    "calculate_p_norm(A, 1)"
   ]
  },
  {
   "cell_type": "code",
   "execution_count": 181,
   "metadata": {},
   "outputs": [
    {
     "data": {
      "text/plain": [
       "22"
      ]
     },
     "execution_count": 181,
     "metadata": {},
     "output_type": "execute_result"
    }
   ],
   "source": [
    "calculate_1_norm(A, 2)"
   ]
  },
  {
   "cell_type": "code",
   "execution_count": 184,
   "metadata": {},
   "outputs": [],
   "source": [
    "def calculateConditionNumber(A, p):\n",
    "    spec_norm_funs = {\n",
    "        'inf': calculate_inf_norm,\n",
    "        1: calculate_1_norm,\n",
    "        2: calculate_2_norm,\n",
    "    }\n",
    "\n",
    "    norm_fun = spec_norm_funs.get(p, calculate_p_norm)\n",
    "    A_inv = np.linalg.inv(A)\n",
    "\n",
    "    A_norm = norm_fun(A, p)\n",
    "    A_inv_norm = norm_fun(A_inv, p)\n",
    "\n",
    "    return A_norm * A_inv_norm"
   ]
  },
  {
   "cell_type": "code",
   "execution_count": 176,
   "metadata": {},
   "outputs": [
    {
     "data": {
      "text/plain": [
       "491.3873116030858"
      ]
     },
     "execution_count": 176,
     "metadata": {},
     "output_type": "execute_result"
    }
   ],
   "source": [
    "calculateConditionNumber(A, 3)"
   ]
  }
 ],
 "metadata": {
  "kernelspec": {
   "display_name": ".venv",
   "language": "python",
   "name": "python3"
  },
  "language_info": {
   "codemirror_mode": {
    "name": "ipython",
    "version": 3
   },
   "file_extension": ".py",
   "mimetype": "text/x-python",
   "name": "python",
   "nbconvert_exporter": "python",
   "pygments_lexer": "ipython3",
   "version": "3.12.2"
  }
 },
 "nbformat": 4,
 "nbformat_minor": 2
}
